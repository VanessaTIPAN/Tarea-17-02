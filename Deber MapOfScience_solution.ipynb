{
 "cells": [
  {
   "cell_type": "markdown",
   "metadata": {},
   "source": [
    "# Solution of 5.9.2, Map of Science \n",
    "### Read the file `pubmed-catdisease-set.txt`, and extract all the US ZIP codes."
   ]
  },
  {
   "cell_type": "markdown",
   "metadata": {},
   "source": [
    "First, import the modules we'll need."
   ]
  },
  {
   "cell_type": "code",
   "execution_count": 6,
   "metadata": {},
   "outputs": [],
   "source": [
    "import re\n",
    "import csv\n",
    "import pandas as pd\n",
    "import matplotlib.pyplot as pltb\n",
    "import itertools"
   ]
  },
  {
   "cell_type": "markdown",
   "metadata": {},
   "source": [
    "Now read the whole file, and store it into a string."
   ]
  },
  {
   "cell_type": "code",
   "execution_count": 7,
   "metadata": {},
   "outputs": [],
   "source": [
    "\n",
    "with open('./pubmed-catdisease-set.txt',\"r\", encoding='utf-8-sig') as f:\n",
    "    my_text = f.read()\n",
    "    my_text = re.sub(r'\\n\\s{6}', ' ', my_text)"
   ]
  },
  {
   "cell_type": "code",
   "execution_count": 8,
   "metadata": {},
   "outputs": [],
   "source": [
    " text1 = re.findall(r\"\\,\\s[A-Z]+[A-z]{2,11}\\.\", my_text) "
   ]
  },
  {
   "cell_type": "markdown",
   "metadata": {},
   "source": [
    "Note that the zipcode could be broken over two lines, as in line 43 of `pubmed-catdisease-set.txt`\n",
    "\n",
    "```\n",
    "AD  - National Mycology Reference Centre, Microbiology and Infectious Diseases, SA \n",
    "      Pathology, Frome Road, Adelaide SA 5000, Australia.\n",
    "```\n",
    "\n",
    "To avoid problems, replace each newline followed by 6 spaces with a single space."
   ]
  },
  {
   "cell_type": "code",
   "execution_count": 13,
   "metadata": {},
   "outputs": [
    {
     "name": "stdout",
     "output_type": "stream",
     "text": [
      "[', AbbVie.', ', Accelerate.', ', Afd.', ', Alabama.', ', Albacete.', ', Albania.', ', Algeria.', ', Alicante.', ', Amgen.', ', Angola.', ', Argentina.', ', Arizona.', ', Armenia.', ', Australia.', ', Austria.', ', Avd.', ', Avda.', ', Ave.', ', BMS.', ', BRAZIL.']\n"
     ]
    }
   ],
   "source": [
    "unique_text =list(set(text1))\n",
    "unique_text.sort()\n",
    "a = unique_text\n",
    "print(a[:20])"
   ]
  },
  {
   "cell_type": "markdown",
   "metadata": {},
   "source": [
    "We should now have every entry in a single line. Let's look at part of an entry:"
   ]
  },
  {
   "cell_type": "code",
   "execution_count": 15,
   "metadata": {},
   "outputs": [],
   "source": [
    "b = unique_text\n",
    "b.remove(', AbbVie.')\n",
    "b.remove(', Accelerate.')\n",
    "b.remove(', Afd.')\n",
    "b.remove(', Albacete.')\n",
    "b.remove(', Alabama.')\n",
    "b.remove(', Alicante.')\n",
    "b.remove(', Amgen.')\n",
    "b.remove(', Arizona.')\n",
    "b.remove(', Avda.')\n",
    "b.remove(', Avd.')\n",
    "b.remove(', Ave.')\n",
    "b.remove(', BMS.')\n"
   ]
  },
  {
   "cell_type": "markdown",
   "metadata": {},
   "source": [
    "Now write a regular expression that creates a list of zipcodes:"
   ]
  },
  {
   "cell_type": "code",
   "execution_count": 16,
   "metadata": {},
   "outputs": [
    {
     "name": "stdout",
     "output_type": "stream",
     "text": [
      "\n",
      " países :  [', Albania.', ', Algeria.', ', Angola.', ', Argentina.', ', Armenia.', ', Australia.', ', Austria.', ', BRAZIL.', ', Badajoz.', ', Badalona.', ', Bahnhofstr.', ', Bahrain.', ', Bangladesh.', ', Barakaldo.', ', Barcelona.', ', Basel.', ', Beijing.', ', Belarus.', ', Belgium.', ', Berlin.', ', Bern.', ', Bizkaia.', ', Blvd.', ', Bolivia.', ', Bordeaux.', ', Brasil.', ', Brazil.', ', Bul.', ', Bulgaria.', ', Burgos.', ', CEVA.', ', CIBERDEM.', ', Cairo.', ', Calif.', ', California.', ', Cambodia.', ', Cameroon.', ', Canada.', ', Cantabria.', ', Carr.', ', Cartagena.', ', Cat.', ', CatLab.', ', Chile.', ', China.', ', Colombia.', ', Colorado.', ', Colorodo.', ', Columbia.', ', Congo.', ', Conj.', ', Coslada.', ', Croatia.', ', Crta.', ', Ctra.', ', Cuba.', ', Cyprus.', ', Czech.', ', Czechia.', ', Denmark.', ', Dept.', ', Deutschland.', ', Ecuador.', ', Edif.', ', Egypt.', ', England.', ', Essex.', ', Estonia.', ', Ethiopia.', ', Europe.', ', Exeltis.', ', Fac.', ', Ferrara.', ', Finland.', ', Fipec.', ', Fla.', ', Florida.', ', Fond.', ', Foundation.', ', France.', ', Georgia.', ', Germany.', ', Getafe.', ', Geuensee.', ', Ghana.', ', Girona.', ', Gorai.', ', Granada.', ', Graz.', ', Greece.', ', Grenada.', ', Guadalajara.', ', Guilan.', ', HMB.', ', Hamburg.', ', Hamminkeln.', ', Hosp.', ', Huesca.', ', Humboldstr.', ', Hungary.', ', IISPV.', ', INCLIVA.', ', IRAQ.', ', IRBLleida.', ', Iceland.', ', IdiSNA.', ', Idibell.', ', Illinois.', ', Inc.', ', Incorporated.', ', India.', ', Indiana.', ', Indonesia.', ', Intercept.', ', Iowa.', ', Ipsen.', ', Iran.', ', Iranshahr.', ', Iraq.', ', Ireland.', ', Israel.', ', Istanbul.', ', Italia.', ', Italy.', ', Italyenrico.', ', Japan.', ', Jersey.', ', Johannesburg.', ', Jordan.', ', Kagoshima.', ', Kansas.', ', Kard.', ', Kazakhstan.', ', Kentucky.', ', Kenya.', ', Korea.', ', Kornwestheim.', ', Kuwait.', ', Kyrgyzstan.', ', LLC.', ', Lab.', ', Latvia.', ', Lebanon.', ', Libya.', ', Lilly.', ', Lindwurmstr.', ', Lithuania.', ', Lleida.', ', Loc.', ', Louisiana.', ', Ltd.', ', Ludwigsburg.', ', Lundbeck.', ', Luxembourg.', ', Lyon.', ', MRCVS.', ', MSD.', ', Macau.', ', Madagascar.', ', Madrid.', ', Maine.', ', Majadahonda.', ', Malawi.', ', Malaysia.', ', Malta.', ', Maryland.', ', Mashhad.', ', Mass.', ', Matsuyama.', ', MedScape.', ', Mexico.', ', Mich.', ', Michigan.', ', Minnesota.', ', Mississippi.', ', Missouri.', ', Moers.', ', Monastir.', ', Mongolia.', ', Moorenstr.', ', Morocco.', ', Mozambique.', ', Mrs.', ', Murcia.', ', Muro.', ', Myanmar.', ', Mylan.', ', Namibia.', ', Nebraska.', ', Nepal.', ', Nerviano.', ', Netherlands.', ', Neurology.', ', Nicaragua.', ', Nigeria.', ', Nofech.', ', Norway.', ', Ohio.', ', Oklahoma.', ', Omaha.', ', Oman.', ', Ont.', ', Ontario.', ', Oregon.', ', Orense.', ', Orihuela.', ', Orleansstr.', ', Ostendstr.', ', Otsuka.', ', Oviedo.', ', Pakistan.', ', Palencia.', ', Palestine.', ', Pall.', ', Pamplona.', ', Panama.', ', Paraguay.', ', Pavia.', ', Pennsylvania.', ', Peru.', ', Pfizer.', ', Philadelphia.', ', Philippines.', ', Pol.', ', Poland.', ', Polyphor.', ', Pontevedra.', ', Portugal.', ', Powst.', ', Prevexair.', ', Prof.', ', PubMed.', ', Puertollano.', ', Qatar.', ', Queensland.', ', ROC.', ', Roche.', ', Rod.', ', Romania.', ', Russia.', ', Rwanda.', ', SVN.', ', SabadeLL.', ', Sacramento.', ', Salamanca.', ', Santander.', ', Sapin.', ', Sapporo.', ', Sassari.', ', Schaflandstr.', ', Schubertstr.', ', Scotland.', ', Sec.', ', Serbia.', ', Sevilla.', ', Seville.', ', Seychelles.', ', Shahroud.', ', Shire.', ', Shk.', ', SichuanChina.', ', Singapore.', ', Slovakia.', ', Slovenia.', ', Sortilin.', ', Spain.', ', Ste.', ', Steubenstr.', ', Str.', ', Sudan.', ', Sweden.', ', Switzerland.', ', TEVA.', ', TRNC.', ', Tabriz.', ', Taipei.', ', Taiwan.', ', Tanzania.', ', Tarragona.', ', Tennessee.', ', Terrassa.', ', Teva.', ', Tex.', ', Texas.', ', Thailand.', ', Tierparkstr.', ', Toledo.', ', Tortosa.', ', Tradate.', ', Tunisia.', ', Tunisie.', ', Turkey.', ', UAE.', ', UKRAINE.', ', USA.', ', Uganda.', ', Ukraine.', ', Univ.', ', Uruguay.', ', Utah.', ', VIC.', ', Valencia.', ', Venezuela.', ', Ver.', ', Vic.', ', Vietnam.', ', Vigo.', ', Virginia.', ', Vizcaya.', ', Wash.', ', Washington.', ', Weinheim.', ', Werftstr.', ', Wis.', ', Wisconsin.', ', Zambia.', ', Zambon.', ', Zaragoza.', ', Ziemssenstr.', ', Zimbabwe.', ', Zoetis.']\n"
     ]
    }
   ],
   "source": [
    "print() \n",
    "print(' países : ', b)"
   ]
  },
  {
   "cell_type": "markdown",
   "metadata": {},
   "source": [
    "The anatomy of the regular expression:\n",
    "```\n",
    "[A-Z]{2}  -> two capital letters (for the state)\n",
    "\\s -> followed by a space\n",
    "\\d{5} -> followed by exactly 5 digits\n",
    ", USA -> follwed by the string \", USA\"\n",
    "```\n",
    "Note that we use a group `(\\d{5})` to capture exclusively the zipcode proper."
   ]
  },
  {
   "cell_type": "code",
   "execution_count": 18,
   "metadata": {},
   "outputs": [
    {
     "name": "stdout",
     "output_type": "stream",
     "text": [
      "\n",
      " lista :  ['Albania', 'Algeria', 'Angola', 'Argentina', 'Armenia', 'Australia', 'Austria', 'BRAZIL', 'Badajoz', 'Badalona', 'Bahnhofstr', 'Bahrain', 'Bangladesh', 'Barakaldo', 'Barcelona', 'Basel', 'Beijing', 'Belarus', 'Belgium', 'Berlin', 'Bern', 'Bizkaia', 'Blvd', 'Bolivia', 'Bordeaux', 'Brasil', 'Brazil', 'Bul', 'Bulgaria', 'Burgos', 'CEVA', 'CIBERDEM', 'Cairo', 'Calif', 'California', 'Cambodia', 'Cameroon', 'Canada', 'Cantabria', 'Carr', 'Cartagena', 'Cat', 'CatLab', 'Chile', 'China', 'Colombia', 'Colorado', 'Colorodo', 'Columbia', 'Congo', 'Conj', 'Coslada', 'Croatia', 'Crta', 'Ctra', 'Cuba', 'Cyprus', 'Czech', 'Czechia', 'Denmark', 'Dept', 'Deutschland', 'Ecuador', 'Edif', 'Egypt', 'England', 'Essex', 'Estonia', 'Ethiopia', 'Europe', 'Exeltis', 'Fac', 'Ferrara', 'Finland', 'Fipec', 'Fla', 'Florida', 'Fond', 'Foundation', 'France', 'Georgia', 'Germany', 'Getafe', 'Geuensee', 'Ghana', 'Girona', 'Gorai', 'Granada', 'Graz', 'Greece', 'Grenada', 'Guadalajara', 'Guilan', 'HMB', 'Hamburg', 'Hamminkeln', 'Hosp', 'Huesca', 'Humboldstr', 'Hungary', 'IISPV', 'INCLIVA', 'IRAQ', 'IRBLleida', 'Iceland', 'IdiSNA', 'Idibell', 'Illinois', 'Inc', 'Incorporated', 'India', 'Indiana', 'Indonesia', 'Intercept', 'Iowa', 'Ipsen', 'Iran', 'Iranshahr', 'Iraq', 'Ireland', 'Israel', 'Istanbul', 'Italia', 'Italy', 'Italyenrico', 'Japan', 'Jersey', 'Johannesburg', 'Jordan', 'Kagoshima', 'Kansas', 'Kard', 'Kazakhstan', 'Kentucky', 'Kenya', 'Korea', 'Kornwestheim', 'Kuwait', 'Kyrgyzstan', 'LLC', 'Lab', 'Latvia', 'Lebanon', 'Libya', 'Lilly', 'Lindwurmstr', 'Lithuania', 'Lleida', 'Loc', 'Louisiana', 'Ltd', 'Ludwigsburg', 'Lundbeck', 'Luxembourg', 'Lyon', 'MRCVS', 'MSD', 'Macau', 'Madagascar', 'Madrid', 'Maine', 'Majadahonda', 'Malawi', 'Malaysia', 'Malta', 'Maryland', 'Mashhad', 'Mass', 'Matsuyama', 'MedScape', 'Mexico', 'Mich', 'Michigan', 'Minnesota', 'Mississippi', 'Missouri', 'Moers', 'Monastir', 'Mongolia', 'Moorenstr', 'Morocco', 'Mozambique', 'Mrs', 'Murcia', 'Muro', 'Myanmar', 'Mylan', 'Namibia', 'Nebraska', 'Nepal', 'Nerviano', 'Netherlands', 'Neurology', 'Nicaragua', 'Nigeria', 'Nofech', 'Norway', 'Ohio', 'Oklahoma', 'Omaha', 'Oman', 'Ont', 'Ontario', 'Oregon', 'Orense', 'Orihuela', 'Orleansstr', 'Ostendstr', 'Otsuka', 'Oviedo', 'Pakistan', 'Palencia', 'Palestine', 'Pall', 'Pamplona', 'Panama', 'Paraguay', 'Pavia', 'Pennsylvania', 'Peru', 'Pfizer', 'Philadelphia', 'Philippines', 'Pol', 'Poland', 'Polyphor', 'Pontevedra', 'Portugal', 'Powst', 'Prevexair', 'Prof', 'PubMed', 'Puertollano', 'Qatar', 'Queensland', 'ROC', 'Roche', 'Rod', 'Romania', 'Russia', 'Rwanda', 'SVN', 'SabadeLL', 'Sacramento', 'Salamanca', 'Santander', 'Sapin', 'Sapporo', 'Sassari', 'Schaflandstr', 'Schubertstr', 'Scotland', 'Sec', 'Serbia', 'Sevilla', 'Seville', 'Seychelles', 'Shahroud', 'Shire', 'Shk', 'SichuanChina', 'Singapore', 'Slovakia', 'Slovenia', 'Sortilin', 'Spain', 'Ste', 'Steubenstr', 'Str', 'Sudan', 'Sweden', 'Switzerland', 'TEVA', 'TRNC', 'Tabriz', 'Taipei', 'Taiwan', 'Tanzania', 'Tarragona', 'Tennessee', 'Terrassa', 'Teva', 'Tex', 'Texas', 'Thailand', 'Tierparkstr', 'Toledo', 'Tortosa', 'Tradate', 'Tunisia', 'Tunisie', 'Turkey', 'UAE', 'UKRAINE', 'USA', 'Uganda', 'Ukraine', 'Univ', 'Uruguay', 'Utah', 'VIC', 'Valencia', 'Venezuela', 'Ver', 'Vic', 'Vietnam', 'Vigo', 'Virginia', 'Vizcaya', 'Wash', 'Washington', 'Weinheim', 'Werftstr', 'Wis', 'Wisconsin', 'Zambia', 'Zambon', 'Zaragoza', 'Ziemssenstr', 'Zimbabwe', 'Zoetis']\n"
     ]
    }
   ],
   "source": [
    "c = \"\".join(b)\n",
    "d = c.split(\", \")\n",
    "e = \"\".join(d)\n",
    "f = e.split(\".\")\n",
    "f.remove(\"\")\n",
    "g = f\n",
    "print()\n",
    "print(' lista : ', g)"
   ]
  },
  {
   "cell_type": "code",
   "execution_count": 19,
   "metadata": {},
   "outputs": [
    {
     "data": {
      "text/html": [
       "<div>\n",
       "<style scoped>\n",
       "    .dataframe tbody tr th:only-of-type {\n",
       "        vertical-align: middle;\n",
       "    }\n",
       "\n",
       "    .dataframe tbody tr th {\n",
       "        vertical-align: top;\n",
       "    }\n",
       "\n",
       "    .dataframe thead th {\n",
       "        text-align: right;\n",
       "    }\n",
       "</style>\n",
       "<table border=\"1\" class=\"dataframe\">\n",
       "  <thead>\n",
       "    <tr style=\"text-align: right;\">\n",
       "      <th></th>\n",
       "      <th>country</th>\n",
       "      <th>latitude</th>\n",
       "      <th>longitude</th>\n",
       "      <th>name</th>\n",
       "    </tr>\n",
       "  </thead>\n",
       "  <tbody>\n",
       "    <tr>\n",
       "      <th>0</th>\n",
       "      <td>AD</td>\n",
       "      <td>42.546245</td>\n",
       "      <td>1.601554</td>\n",
       "      <td>Andorra</td>\n",
       "    </tr>\n",
       "    <tr>\n",
       "      <th>1</th>\n",
       "      <td>AE</td>\n",
       "      <td>23.424076</td>\n",
       "      <td>53.847818</td>\n",
       "      <td>United Arab Emirates</td>\n",
       "    </tr>\n",
       "    <tr>\n",
       "      <th>2</th>\n",
       "      <td>AF</td>\n",
       "      <td>33.939110</td>\n",
       "      <td>67.709953</td>\n",
       "      <td>Afghanistan</td>\n",
       "    </tr>\n",
       "    <tr>\n",
       "      <th>3</th>\n",
       "      <td>AG</td>\n",
       "      <td>17.060816</td>\n",
       "      <td>-61.796428</td>\n",
       "      <td>Antigua and Barbuda</td>\n",
       "    </tr>\n",
       "    <tr>\n",
       "      <th>4</th>\n",
       "      <td>AI</td>\n",
       "      <td>18.220554</td>\n",
       "      <td>-63.068615</td>\n",
       "      <td>Anguilla</td>\n",
       "    </tr>\n",
       "    <tr>\n",
       "      <th>5</th>\n",
       "      <td>AL</td>\n",
       "      <td>41.153332</td>\n",
       "      <td>20.168331</td>\n",
       "      <td>Albania</td>\n",
       "    </tr>\n",
       "    <tr>\n",
       "      <th>6</th>\n",
       "      <td>AM</td>\n",
       "      <td>40.069099</td>\n",
       "      <td>45.038189</td>\n",
       "      <td>Armenia</td>\n",
       "    </tr>\n",
       "    <tr>\n",
       "      <th>7</th>\n",
       "      <td>AN</td>\n",
       "      <td>12.226079</td>\n",
       "      <td>-69.060087</td>\n",
       "      <td>Netherlands Antilles</td>\n",
       "    </tr>\n",
       "    <tr>\n",
       "      <th>8</th>\n",
       "      <td>AO</td>\n",
       "      <td>-11.202692</td>\n",
       "      <td>17.873887</td>\n",
       "      <td>Angola</td>\n",
       "    </tr>\n",
       "    <tr>\n",
       "      <th>9</th>\n",
       "      <td>AQ</td>\n",
       "      <td>-75.250973</td>\n",
       "      <td>-0.071389</td>\n",
       "      <td>Antarctica</td>\n",
       "    </tr>\n",
       "  </tbody>\n",
       "</table>\n",
       "</div>"
      ],
      "text/plain": [
       "  country   latitude  longitude                  name\n",
       "0      AD  42.546245   1.601554               Andorra\n",
       "1      AE  23.424076  53.847818  United Arab Emirates\n",
       "2      AF  33.939110  67.709953           Afghanistan\n",
       "3      AG  17.060816 -61.796428   Antigua and Barbuda\n",
       "4      AI  18.220554 -63.068615              Anguilla\n",
       "5      AL  41.153332  20.168331               Albania\n",
       "6      AM  40.069099  45.038189               Armenia\n",
       "7      AN  12.226079 -69.060087  Netherlands Antilles\n",
       "8      AO -11.202692  17.873887                Angola\n",
       "9      AQ -75.250973  -0.071389            Antarctica"
      ]
     },
     "execution_count": 19,
     "metadata": {},
     "output_type": "execute_result"
    }
   ],
   "source": [
    "data = pd.read_csv('./Paises_ubicacion.csv', engine='python', skipfooter=3)\n",
    "data.head(10)"
   ]
  },
  {
   "cell_type": "markdown",
   "metadata": {},
   "source": [
    "Extract the unique zipcodes "
   ]
  },
  {
   "cell_type": "code",
   "execution_count": 20,
   "metadata": {},
   "outputs": [
    {
     "data": {
      "text/html": [
       "<div>\n",
       "<style scoped>\n",
       "    .dataframe tbody tr th:only-of-type {\n",
       "        vertical-align: middle;\n",
       "    }\n",
       "\n",
       "    .dataframe tbody tr th {\n",
       "        vertical-align: top;\n",
       "    }\n",
       "\n",
       "    .dataframe thead th {\n",
       "        text-align: right;\n",
       "    }\n",
       "</style>\n",
       "<table border=\"1\" class=\"dataframe\">\n",
       "  <thead>\n",
       "    <tr style=\"text-align: right;\">\n",
       "      <th></th>\n",
       "      <th>country</th>\n",
       "      <th>latitude</th>\n",
       "      <th>longitude</th>\n",
       "      <th>name</th>\n",
       "    </tr>\n",
       "  </thead>\n",
       "  <tbody>\n",
       "    <tr>\n",
       "      <th>5</th>\n",
       "      <td>AL</td>\n",
       "      <td>41.153332</td>\n",
       "      <td>20.168331</td>\n",
       "      <td>Albania</td>\n",
       "    </tr>\n",
       "    <tr>\n",
       "      <th>6</th>\n",
       "      <td>AM</td>\n",
       "      <td>40.069099</td>\n",
       "      <td>45.038189</td>\n",
       "      <td>Armenia</td>\n",
       "    </tr>\n",
       "    <tr>\n",
       "      <th>8</th>\n",
       "      <td>AO</td>\n",
       "      <td>-11.202692</td>\n",
       "      <td>17.873887</td>\n",
       "      <td>Angola</td>\n",
       "    </tr>\n",
       "    <tr>\n",
       "      <th>10</th>\n",
       "      <td>AR</td>\n",
       "      <td>-38.416097</td>\n",
       "      <td>-63.616672</td>\n",
       "      <td>Argentina</td>\n",
       "    </tr>\n",
       "    <tr>\n",
       "      <th>12</th>\n",
       "      <td>AT</td>\n",
       "      <td>47.516231</td>\n",
       "      <td>14.550072</td>\n",
       "      <td>Austria</td>\n",
       "    </tr>\n",
       "    <tr>\n",
       "      <th>13</th>\n",
       "      <td>AU</td>\n",
       "      <td>-25.274398</td>\n",
       "      <td>133.775136</td>\n",
       "      <td>Australia</td>\n",
       "    </tr>\n",
       "    <tr>\n",
       "      <th>18</th>\n",
       "      <td>BD</td>\n",
       "      <td>23.684994</td>\n",
       "      <td>90.356331</td>\n",
       "      <td>Bangladesh</td>\n",
       "    </tr>\n",
       "    <tr>\n",
       "      <th>19</th>\n",
       "      <td>BE</td>\n",
       "      <td>50.503887</td>\n",
       "      <td>4.469936</td>\n",
       "      <td>Belgium</td>\n",
       "    </tr>\n",
       "    <tr>\n",
       "      <th>21</th>\n",
       "      <td>BG</td>\n",
       "      <td>42.733883</td>\n",
       "      <td>25.485830</td>\n",
       "      <td>Bulgaria</td>\n",
       "    </tr>\n",
       "    <tr>\n",
       "      <th>22</th>\n",
       "      <td>BH</td>\n",
       "      <td>25.930414</td>\n",
       "      <td>50.637772</td>\n",
       "      <td>Bahrain</td>\n",
       "    </tr>\n",
       "  </tbody>\n",
       "</table>\n",
       "</div>"
      ],
      "text/plain": [
       "   country   latitude   longitude        name\n",
       "5       AL  41.153332   20.168331     Albania\n",
       "6       AM  40.069099   45.038189     Armenia\n",
       "8       AO -11.202692   17.873887      Angola\n",
       "10      AR -38.416097  -63.616672   Argentina\n",
       "12      AT  47.516231   14.550072     Austria\n",
       "13      AU -25.274398  133.775136   Australia\n",
       "18      BD  23.684994   90.356331  Bangladesh\n",
       "19      BE  50.503887    4.469936     Belgium\n",
       "21      BG  42.733883   25.485830    Bulgaria\n",
       "22      BH  25.930414   50.637772     Bahrain"
      ]
     },
     "execution_count": 20,
     "metadata": {},
     "output_type": "execute_result"
    }
   ],
   "source": [
    "name = data[data.name.isin(g)]\n",
    "name.head(10)"
   ]
  },
  {
   "cell_type": "code",
   "execution_count": 21,
   "metadata": {},
   "outputs": [
    {
     "data": {
      "text/html": [
       "<div>\n",
       "<style scoped>\n",
       "    .dataframe tbody tr th:only-of-type {\n",
       "        vertical-align: middle;\n",
       "    }\n",
       "\n",
       "    .dataframe tbody tr th {\n",
       "        vertical-align: top;\n",
       "    }\n",
       "\n",
       "    .dataframe thead th {\n",
       "        text-align: right;\n",
       "    }\n",
       "</style>\n",
       "<table border=\"1\" class=\"dataframe\">\n",
       "  <thead>\n",
       "    <tr style=\"text-align: right;\">\n",
       "      <th></th>\n",
       "      <th>country</th>\n",
       "      <th>latitude</th>\n",
       "      <th>longitude</th>\n",
       "      <th>name</th>\n",
       "    </tr>\n",
       "  </thead>\n",
       "  <tbody>\n",
       "    <tr>\n",
       "      <th>5</th>\n",
       "      <td>AL</td>\n",
       "      <td>41.153332</td>\n",
       "      <td>20.168331</td>\n",
       "      <td>Albania</td>\n",
       "    </tr>\n",
       "    <tr>\n",
       "      <th>58</th>\n",
       "      <td>DZ</td>\n",
       "      <td>28.033886</td>\n",
       "      <td>1.659626</td>\n",
       "      <td>Algeria</td>\n",
       "    </tr>\n",
       "    <tr>\n",
       "      <th>8</th>\n",
       "      <td>AO</td>\n",
       "      <td>-11.202692</td>\n",
       "      <td>17.873887</td>\n",
       "      <td>Angola</td>\n",
       "    </tr>\n",
       "    <tr>\n",
       "      <th>10</th>\n",
       "      <td>AR</td>\n",
       "      <td>-38.416097</td>\n",
       "      <td>-63.616672</td>\n",
       "      <td>Argentina</td>\n",
       "    </tr>\n",
       "    <tr>\n",
       "      <th>6</th>\n",
       "      <td>AM</td>\n",
       "      <td>40.069099</td>\n",
       "      <td>45.038189</td>\n",
       "      <td>Armenia</td>\n",
       "    </tr>\n",
       "    <tr>\n",
       "      <th>13</th>\n",
       "      <td>AU</td>\n",
       "      <td>-25.274398</td>\n",
       "      <td>133.775136</td>\n",
       "      <td>Australia</td>\n",
       "    </tr>\n",
       "    <tr>\n",
       "      <th>12</th>\n",
       "      <td>AT</td>\n",
       "      <td>47.516231</td>\n",
       "      <td>14.550072</td>\n",
       "      <td>Austria</td>\n",
       "    </tr>\n",
       "    <tr>\n",
       "      <th>22</th>\n",
       "      <td>BH</td>\n",
       "      <td>25.930414</td>\n",
       "      <td>50.637772</td>\n",
       "      <td>Bahrain</td>\n",
       "    </tr>\n",
       "    <tr>\n",
       "      <th>18</th>\n",
       "      <td>BD</td>\n",
       "      <td>23.684994</td>\n",
       "      <td>90.356331</td>\n",
       "      <td>Bangladesh</td>\n",
       "    </tr>\n",
       "    <tr>\n",
       "      <th>33</th>\n",
       "      <td>BY</td>\n",
       "      <td>53.709807</td>\n",
       "      <td>27.953389</td>\n",
       "      <td>Belarus</td>\n",
       "    </tr>\n",
       "  </tbody>\n",
       "</table>\n",
       "</div>"
      ],
      "text/plain": [
       "   country   latitude   longitude        name\n",
       "5       AL  41.153332   20.168331     Albania\n",
       "58      DZ  28.033886    1.659626     Algeria\n",
       "8       AO -11.202692   17.873887      Angola\n",
       "10      AR -38.416097  -63.616672   Argentina\n",
       "6       AM  40.069099   45.038189     Armenia\n",
       "13      AU -25.274398  133.775136   Australia\n",
       "12      AT  47.516231   14.550072     Austria\n",
       "22      BH  25.930414   50.637772     Bahrain\n",
       "18      BD  23.684994   90.356331  Bangladesh\n",
       "33      BY  53.709807   27.953389     Belarus"
      ]
     },
     "execution_count": 21,
     "metadata": {},
     "output_type": "execute_result"
    }
   ],
   "source": [
    "paises = data[data.country.isin(g)]\n",
    "all_data =pd.concat([name,paises]).drop_duplicates().sort_values('name')\n",
    "all_data.head(10)"
   ]
  },
  {
   "cell_type": "code",
   "execution_count": 23,
   "metadata": {},
   "outputs": [
    {
     "data": {
      "image/png": "[encoded data removed]",
      "text/plain": [
       "<Figure size 1296x864 with 2 Axes>"
      ]
     },
     "metadata": {
      "needs_background": "light"
     },
     "output_type": "display_data"
    }
   ],
   "source": [
    "paises = data[data.country.isin(g)]\n",
    "all_data =pd.concat([name,paises]).drop_duplicates().sort_values('name')\n",
    "all_data.head(10)\n",
    "import matplotlib.pyplot as plt\n",
    "pltb.scatter(all_data.longitude, all_data.latitude, s=50, c=all_data.latitude)\n",
    "pltb.colorbar()\n",
    "ard = dict(arrowstyle=\"->\")\n",
    "\n",
    "pltb.annotate('Ucrania', xy = (31.16558,48.379433), \n",
    "               xytext = (31.16558,51), arrowprops= ard)\n",
    "\n",
    "pltb.annotate('EEUU', xy = (-95.712891, 37.09024), \n",
    "               xytext = (-95.712891, 40), arrowprops = ard)\n",
    "\n",
    "pltb.annotate('Brasil', xy = (-51.92528, -14.235004), \n",
    "               xytext = (-51.92528, -11), arrowprops= ard)\n",
    "pltb.annotate('Australia', xy = (133.775136, -25.274398), \n",
    "               xytext = (133.775136, -22), arrowprops= ard)\n",
    "\n",
    "pltb.annotate('Noruega', xy = (8.468946, 60.472024), \n",
    "               xytext = (8.468946, 63), arrowprops= ard)\n",
    "\n",
    "pltb.annotate('China', xy = (104.195397, 35.86166), \n",
    "               xytext = (104.195397, 39), arrowprops= ard)\n",
    "\n",
    "params = pltb.gcf()\n",
    "plSize = params.get_size_inches()\n",
    "params.set_size_inches( (plSize[0] * 3, plSize[1] * 3) )\n",
    "\n",
    "pltb.savefig(\"Map of Science.png\")"
   ]
  }
 ],
 "metadata": {
  "kernelspec": {
   "display_name": "Python 3 (ipykernel)",
   "language": "python",
   "name": "python3"
  },
  "language_info": {
   "codemirror_mode": {
    "name": "ipython",
    "version": 3
   },
   "file_extension": ".py",
   "mimetype": "text/x-python",
   "name": "python",
   "nbconvert_exporter": "python",
   "pygments_lexer": "ipython3",
   "version": "3.9.7"
  }
 },
 "nbformat": 4,
 "nbformat_minor": 1
}
